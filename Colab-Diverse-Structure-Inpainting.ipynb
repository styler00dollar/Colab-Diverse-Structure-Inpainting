{
  "nbformat": 4,
  "nbformat_minor": 0,
  "metadata": {
    "colab": {
      "name": "Colab-Diverse-Structure-Inpainting.ipynb",
      "private_outputs": true,
      "provenance": [],
      "collapsed_sections": []
    },
    "kernelspec": {
      "name": "python3",
      "display_name": "Python 3"
    },
    "language_info": {
      "name": "python"
    },
    "accelerator": "GPU"
  },
  "cells": [
    {
      "cell_type": "markdown",
      "metadata": {
        "id": "Gi26rk_A26Gj"
      },
      "source": [
        "# Colab-Diverse-Structure-Inpainting\n",
        "\n",
        "Original repo [USTC-JialunPeng/Diverse-Structure-Inpainting](https://github.com/USTC-JialunPeng/Diverse-Structure-Inpainting)\n",
        "\n",
        "My fork: [styler00dollar/Colab-Diverse-Structure-Inpainting](https://github.com/styler00dollar/Colab-Diverse-Structure-Inpainting)"
      ]
    },
    {
      "cell_type": "code",
      "metadata": {
        "id": "WROSBKMy24sL"
      },
      "source": [
        "!nvidia-smi"
      ],
      "execution_count": null,
      "outputs": []
    },
    {
      "cell_type": "code",
      "metadata": {
        "cellView": "form",
        "id": "C3OaeEhq1Fdv"
      },
      "source": [
        "#@title install\n",
        "!git clone https://github.com/USTC-JialunPeng/Diverse-Structure-Inpainting.git\n",
        "# places2 random\n",
        "!mkdir /content/checkpoint\n",
        "%cd /content/checkpoint\n",
        "!gdown --id 1FdPxbv7v6iZbfveLMAwDsCKstbskhUSA\n",
        "!gdown --id 1GHKPuEtPSkT-zXe-5Uue1EUPqN3JakUY\n",
        "!gdown --id 1MvbYSoGFZZWVkXZxIkq1lGsNuHmZoMAJ\n",
        "!gdown --id 1LwcVXkY2LGonxN9NLp8wZF7OO372NKQ4"
      ],
      "execution_count": null,
      "outputs": []
    },
    {
      "cell_type": "markdown",
      "metadata": {
        "id": "Veo9P2Z37_J5"
      },
      "source": [
        "Inputting the same thing several times will lead to different results"
      ]
    },
    {
      "cell_type": "code",
      "metadata": {
        "id": "SrhVGNfT2za3"
      },
      "source": [
        "%%writefile /content/img.txt\n",
        "/content/input.png\n",
        "/content/input.png"
      ],
      "execution_count": null,
      "outputs": []
    },
    {
      "cell_type": "code",
      "metadata": {
        "id": "K2DN3I9r23GW"
      },
      "source": [
        "%%writefile /content/mask.txt\n",
        "/content/mask.png\n",
        "/content/mask.png"
      ],
      "execution_count": null,
      "outputs": []
    },
    {
      "cell_type": "code",
      "metadata": {
        "id": "VrxgvN3C33bS"
      },
      "source": [
        "# resize images to 256px\n",
        "import cv2\n",
        "image = cv2.imread(\"/content/input.png\")\n",
        "image = cv2.resize(image, (256,256), cv2.INTER_NEAREST)\n",
        "cv2.imwrite(\"/content/input.png\", image)\n",
        "\n",
        "# white = to inpaint\n",
        "# black = original\n",
        "image = cv2.imread(\"/content/mask.png\", cv2.IMREAD_GRAYSCALE)\n",
        "image = cv2.resize(image, (256,256), cv2.INTER_NEAREST)\n",
        "#image = 255-image\n",
        "cv2.imwrite(\"/content/mask.png\", image)"
      ],
      "execution_count": null,
      "outputs": []
    },
    {
      "cell_type": "markdown",
      "metadata": {
        "id": "_zbg0GYB8H95"
      },
      "source": [
        "Results will be in ``/content/result``."
      ]
    },
    {
      "cell_type": "code",
      "metadata": {
        "id": "fxP4Q1_82fnp"
      },
      "source": [
        "%tensorflow_version 1.x\n",
        "%cd /content/Diverse-Structure-Inpainting\n",
        "!python test.py --checkpoints_dir /content --img_flist /content/img.txt --mask_flist /content/mask.txt --full_model_dir /content/checkpoint"
      ],
      "execution_count": null,
      "outputs": []
    }
  ]
}